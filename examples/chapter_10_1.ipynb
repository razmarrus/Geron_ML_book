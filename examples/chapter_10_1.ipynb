{
 "cells": [
  {
   "cell_type": "markdown",
   "metadata": {},
   "source": [
    "# Implementing MLPs with Keras\n",
    "\n",
    "Following notebook is shortened version of 10-th chapter of the book. All code and most of the text is taken directly from the book"
   ]
  },
  {
   "cell_type": "code",
   "execution_count": 1,
   "metadata": {},
   "outputs": [
    {
     "data": {
      "text/plain": [
       "'2.1.0'"
      ]
     },
     "execution_count": 1,
     "metadata": {},
     "output_type": "execute_result"
    }
   ],
   "source": [
    "import tensorflow as tf\n",
    "import numpy as np\n",
    "tf.__version__"
   ]
  },
  {
   "cell_type": "code",
   "execution_count": 2,
   "metadata": {},
   "outputs": [
    {
     "data": {
      "text/plain": [
       "'2.2.4-tf'"
      ]
     },
     "execution_count": 2,
     "metadata": {},
     "output_type": "execute_result"
    }
   ],
   "source": [
    "from tensorflow import keras\n",
    "keras.__version__"
   ]
  },
  {
   "cell_type": "code",
   "execution_count": 3,
   "metadata": {},
   "outputs": [],
   "source": [
    "fashion_mnist = keras.datasets.fashion_mnist\n",
    "(X_train_full, y_train_full), (X_test, y_test) = fashion_mnist.load_data()"
   ]
  },
  {
   "cell_type": "code",
   "execution_count": 4,
   "metadata": {},
   "outputs": [
    {
     "data": {
      "text/plain": [
       "(60000, 28, 28)"
      ]
     },
     "execution_count": 4,
     "metadata": {},
     "output_type": "execute_result"
    }
   ],
   "source": [
    " X_train_full.shape"
   ]
  },
  {
   "cell_type": "code",
   "execution_count": 5,
   "metadata": {},
   "outputs": [
    {
     "data": {
      "text/plain": [
       "dtype('uint8')"
      ]
     },
     "execution_count": 5,
     "metadata": {},
     "output_type": "execute_result"
    }
   ],
   "source": [
    "X_train_full.dtype"
   ]
  },
  {
   "cell_type": "code",
   "execution_count": 6,
   "metadata": {},
   "outputs": [],
   "source": [
    "X_valid, X_train = X_train_full[:5000] / 255.0, X_train_full[5000:] /255.0\n",
    "y_valid, y_train = y_train_full[:5000], y_train_full[5000:]"
   ]
  },
  {
   "cell_type": "markdown",
   "metadata": {},
   "source": [
    "For Fashion MNIST we need the list of class names to know what we are dealing with"
   ]
  },
  {
   "cell_type": "code",
   "execution_count": 7,
   "metadata": {},
   "outputs": [],
   "source": [
    "class_names = [\"T-shirt/top\", \"Trouser\", \"Pullover\", \"Dress\", \"Coat\",\n",
    "\"Sandal\", \"Shirt\", \"Sneaker\", \"Bag\", \"Ankle boot\"]"
   ]
  },
  {
   "cell_type": "markdown",
   "metadata": {},
   "source": [
    "Now let’s build the neural network"
   ]
  },
  {
   "cell_type": "code",
   "execution_count": 8,
   "metadata": {},
   "outputs": [],
   "source": [
    "model = keras.models.Sequential()\n",
    "model.add(keras.layers.Flatten(input_shape=[28, 28]))\n",
    "model.add(keras.layers.Dense(300, activation=\"relu\"))\n",
    "model.add(keras.layers.Dense(100, activation=\"relu\"))\n",
    "model.add(keras.layers.Dense(10, activation=\"softmax\"))"
   ]
  },
  {
   "cell_type": "markdown",
   "metadata": {},
   "source": [
    "Let’s go through this code line by line:\n",
    "* The first line creates a Sequential model. This is the simplest\n",
    "kind of Keras model for neural networks that are just composed of\n",
    "a single stack of layers connected sequentially. This is called the\n",
    "Sequential API.\n",
    "* Next, we build the first layer and add it to the model. It is a\n",
    "Flatten layer whose role is to convert each input image into a 1D\n",
    "array: if it receives input data X, it computes X.reshape(-1, 1).\n",
    "This layer does not have any parameters; it is just there to do\n",
    "some simple preprocessing. Since it is the first layer in the model,\n",
    "you should specify the input_shape, which doesn’t include the\n",
    "batch size, only the shape of the instances. Alternatively, you\n",
    "could add a keras.layers.InputLayer as the first layer, setting\n",
    "input_shape=[28,28].\n",
    "* Next we add a Dense hidden layer with 300 neurons. It will use\n",
    "the ReLU activation function. Each Dense layer manages its own\n",
    "weight matrix, containing all the connection weights between the\n",
    "neurons and their inputs. It also manages a vector of bias terms\n",
    "(one per neuron). \n",
    "* Then we add a second Dense hidden layer with 100 neurons, also\n",
    "using the ReLU activation function.\n",
    "Finally, we add a Dense output layer with 10 neurons (one per\n",
    "class), using the softmax activation function (because the classes\n",
    "are exclusive).\n"
   ]
  },
  {
   "cell_type": "markdown",
   "metadata": {},
   "source": [
    "model initialization with multipule layers may also be done like that:"
   ]
  },
  {
   "cell_type": "code",
   "execution_count": 9,
   "metadata": {},
   "outputs": [],
   "source": [
    "model = keras.models.Sequential([\n",
    "keras.layers.Flatten(input_shape=[28, 28]),\n",
    "keras.layers.Dense(300, activation=\"relu\"),\n",
    "keras.layers.Dense(100, activation=\"relu\"),\n",
    "keras.layers.Dense(10, activation=\"softmax\")\n",
    "])"
   ]
  },
  {
   "cell_type": "code",
   "execution_count": 10,
   "metadata": {},
   "outputs": [
    {
     "name": "stdout",
     "output_type": "stream",
     "text": [
      "Model: \"sequential_1\"\n",
      "_________________________________________________________________\n",
      "Layer (type)                 Output Shape              Param #   \n",
      "=================================================================\n",
      "flatten_1 (Flatten)          (None, 784)               0         \n",
      "_________________________________________________________________\n",
      "dense_3 (Dense)              (None, 300)               235500    \n",
      "_________________________________________________________________\n",
      "dense_4 (Dense)              (None, 100)               30100     \n",
      "_________________________________________________________________\n",
      "dense_5 (Dense)              (None, 10)                1010      \n",
      "=================================================================\n",
      "Total params: 266,610\n",
      "Trainable params: 266,610\n",
      "Non-trainable params: 0\n",
      "_________________________________________________________________\n"
     ]
    }
   ],
   "source": [
    " model.summary()"
   ]
  },
  {
   "cell_type": "code",
   "execution_count": 11,
   "metadata": {},
   "outputs": [],
   "source": [
    "model.compile(loss=\"sparse_categorical_crossentropy\",\n",
    "optimizer=\"sgd\",\n",
    "metrics=[\"accuracy\"])\n"
   ]
  },
  {
   "cell_type": "markdown",
   "metadata": {},
   "source": [
    "This code requires some explanation. First, we use the\n",
    "\"sparse_categorical_crossentropy\" loss because we have sparse\n",
    "labels (i.e., for each instance, there is just a target class index, from 0 to 9\n",
    "in this case), and the classes are exclusive. If instead we had one target\n",
    "probability per class for each instance (such as one-hot vectors, e.g. [0.,\n",
    "0., 0., 1., 0., 0., 0., 0., 0., 0.] to represent class 3), then we\n",
    "would need to use the \"categorical_crossentropy\" loss instead. \n",
    "If we were doing binary classification (with one or more binary labels), then we\n",
    "would use the \"sigmoid\" (i.e., logistic) activation function in the output\n",
    "layer instead of the \"softmax\" activation function, and we would use the\n",
    "\"binary_crossentropy\" loss.\n",
    "Regarding the optimizer, \"sgd\" means that we will train the model using\n",
    "simple Stochastic Gradient Descent."
   ]
  },
  {
   "cell_type": "code",
   "execution_count": 12,
   "metadata": {},
   "outputs": [
    {
     "name": "stdout",
     "output_type": "stream",
     "text": [
      "Train on 55000 samples, validate on 5000 samples\n",
      "Epoch 1/30\n",
      "55000/55000 [==============================] - 4s 69us/sample - loss: 0.7248 - accuracy: 0.7617 - val_loss: 0.4972 - val_accuracy: 0.8312\n",
      "Epoch 2/30\n",
      "55000/55000 [==============================] - 3s 61us/sample - loss: 0.4859 - accuracy: 0.8313 - val_loss: 0.4671 - val_accuracy: 0.8418\n",
      "Epoch 3/30\n",
      "55000/55000 [==============================] - 3s 60us/sample - loss: 0.4398 - accuracy: 0.8464 - val_loss: 0.4133 - val_accuracy: 0.8592\n",
      "Epoch 4/30\n",
      "55000/55000 [==============================] - 3s 54us/sample - loss: 0.4118 - accuracy: 0.8568 - val_loss: 0.3951 - val_accuracy: 0.8638\n",
      "Epoch 5/30\n",
      "55000/55000 [==============================] - 3s 58us/sample - loss: 0.3931 - accuracy: 0.8627 - val_loss: 0.3976 - val_accuracy: 0.8622\n",
      "Epoch 6/30\n",
      "55000/55000 [==============================] - 3s 56us/sample - loss: 0.3775 - accuracy: 0.8663 - val_loss: 0.3988 - val_accuracy: 0.8566\n",
      "Epoch 7/30\n",
      "55000/55000 [==============================] - 3s 59us/sample - loss: 0.3642 - accuracy: 0.8711 - val_loss: 0.3774 - val_accuracy: 0.8644\n",
      "Epoch 8/30\n",
      "55000/55000 [==============================] - 3s 60us/sample - loss: 0.3531 - accuracy: 0.8751 - val_loss: 0.3736 - val_accuracy: 0.8666\n",
      "Epoch 9/30\n",
      "55000/55000 [==============================] - 4s 64us/sample - loss: 0.3430 - accuracy: 0.8777 - val_loss: 0.3525 - val_accuracy: 0.8686\n",
      "Epoch 10/30\n",
      "55000/55000 [==============================] - 3s 58us/sample - loss: 0.3340 - accuracy: 0.8820 - val_loss: 0.3446 - val_accuracy: 0.8782\n",
      "Epoch 11/30\n",
      "55000/55000 [==============================] - 3s 57us/sample - loss: 0.3249 - accuracy: 0.8845 - val_loss: 0.3455 - val_accuracy: 0.8782\n",
      "Epoch 12/30\n",
      "55000/55000 [==============================] - 3s 58us/sample - loss: 0.3171 - accuracy: 0.8870 - val_loss: 0.3377 - val_accuracy: 0.8798\n",
      "Epoch 13/30\n",
      "55000/55000 [==============================] - 3s 61us/sample - loss: 0.3098 - accuracy: 0.8890 - val_loss: 0.3434 - val_accuracy: 0.8770\n",
      "Epoch 14/30\n",
      "55000/55000 [==============================] - 3s 53us/sample - loss: 0.3026 - accuracy: 0.8910 - val_loss: 0.3346 - val_accuracy: 0.8790\n",
      "Epoch 15/30\n",
      "55000/55000 [==============================] - 3s 57us/sample - loss: 0.2968 - accuracy: 0.8932 - val_loss: 0.3133 - val_accuracy: 0.8864\n",
      "Epoch 16/30\n",
      "55000/55000 [==============================] - 3s 59us/sample - loss: 0.2904 - accuracy: 0.8955 - val_loss: 0.3190 - val_accuracy: 0.8842\n",
      "Epoch 17/30\n",
      "55000/55000 [==============================] - 3s 58us/sample - loss: 0.2849 - accuracy: 0.8971 - val_loss: 0.3152 - val_accuracy: 0.8858\n",
      "Epoch 18/30\n",
      "55000/55000 [==============================] - 3s 59us/sample - loss: 0.2801 - accuracy: 0.8983 - val_loss: 0.3095 - val_accuracy: 0.8894\n",
      "Epoch 19/30\n",
      "55000/55000 [==============================] - 3s 57us/sample - loss: 0.2741 - accuracy: 0.9009 - val_loss: 0.3310 - val_accuracy: 0.8800\n",
      "Epoch 20/30\n",
      "55000/55000 [==============================] - 3s 60us/sample - loss: 0.2692 - accuracy: 0.9033 - val_loss: 0.3092 - val_accuracy: 0.8886\n",
      "Epoch 21/30\n",
      "55000/55000 [==============================] - 3s 59us/sample - loss: 0.2641 - accuracy: 0.9040 - val_loss: 0.3073 - val_accuracy: 0.8894\n",
      "Epoch 22/30\n",
      "55000/55000 [==============================] - 3s 59us/sample - loss: 0.2598 - accuracy: 0.9066 - val_loss: 0.2996 - val_accuracy: 0.8892\n",
      "Epoch 23/30\n",
      "55000/55000 [==============================] - 3s 59us/sample - loss: 0.2551 - accuracy: 0.9072 - val_loss: 0.3197 - val_accuracy: 0.8870\n",
      "Epoch 24/30\n",
      "55000/55000 [==============================] - 3s 57us/sample - loss: 0.2508 - accuracy: 0.9103 - val_loss: 0.3006 - val_accuracy: 0.8902\n",
      "Epoch 25/30\n",
      "55000/55000 [==============================] - 3s 57us/sample - loss: 0.2471 - accuracy: 0.9109 - val_loss: 0.3049 - val_accuracy: 0.8868\n",
      "Epoch 26/30\n",
      "55000/55000 [==============================] - 3s 56us/sample - loss: 0.2422 - accuracy: 0.9126 - val_loss: 0.3173 - val_accuracy: 0.8858\n",
      "Epoch 27/30\n",
      "55000/55000 [==============================] - 3s 58us/sample - loss: 0.2387 - accuracy: 0.9150 - val_loss: 0.3140 - val_accuracy: 0.8838\n",
      "Epoch 28/30\n",
      "55000/55000 [==============================] - 3s 55us/sample - loss: 0.2346 - accuracy: 0.9151 - val_loss: 0.3076 - val_accuracy: 0.8900\n",
      "Epoch 29/30\n",
      "55000/55000 [==============================] - 3s 55us/sample - loss: 0.2304 - accuracy: 0.9164 - val_loss: 0.2991 - val_accuracy: 0.8882\n",
      "Epoch 30/30\n",
      "55000/55000 [==============================] - 4s 67us/sample - loss: 0.2265 - accuracy: 0.9185 - val_loss: 0.2963 - val_accuracy: 0.8938\n"
     ]
    }
   ],
   "source": [
    "history = model.fit(X_train, y_train, epochs=30, validation_data=(X_valid, y_valid))"
   ]
  },
  {
   "cell_type": "markdown",
   "metadata": {},
   "source": [
    "The fit() method returns a History object containing the training\n",
    "parameters (history.params), the list of epochs it went through\n",
    "(history.epoch), and most importantly a dictionary (history.history)\n",
    "containing the loss and extra metrics it measured at the end of each epoch\n",
    "on the training set and on the validation set (if any). "
   ]
  },
  {
   "cell_type": "code",
   "execution_count": 13,
   "metadata": {},
   "outputs": [
    {
     "data": {
      "image/png": "[encoded data removed]",
      "text/plain": [
       "<Figure size 576x360 with 1 Axes>"
      ]
     },
     "metadata": {
      "needs_background": "light"
     },
     "output_type": "display_data"
    }
   ],
   "source": [
    "import pandas as pd\n",
    "import matplotlib.pyplot as plt\n",
    "pd.DataFrame(history.history).plot(figsize=(8, 5))\n",
    "plt.grid(True)\n",
    "plt.gca().set_ylim(0, 1) # set the vertical range to [0-1]\n",
    "plt.show()"
   ]
  },
  {
   "cell_type": "markdown",
   "metadata": {},
   "source": [
    " Once you are satisfied\n",
    "with your model’s validation accuracy, you should evaluate it on the test\n",
    "set to estimate the generalization error before you deploy the model to\n",
    "production"
   ]
  },
  {
   "cell_type": "code",
   "execution_count": 14,
   "metadata": {},
   "outputs": [
    {
     "name": "stdout",
     "output_type": "stream",
     "text": [
      "10000/10000 [==============================] - 0s 39us/sample - loss: 69.8486 - accuracy: 0.8434\n"
     ]
    },
    {
     "data": {
      "text/plain": [
       "[69.84863073768615, 0.8434]"
      ]
     },
     "execution_count": 14,
     "metadata": {},
     "output_type": "execute_result"
    }
   ],
   "source": [
    "model.evaluate(X_test, y_test)"
   ]
  },
  {
   "cell_type": "markdown",
   "metadata": {},
   "source": [
    "We can use the model’s predict() method to make predictions on\n",
    "new instances. Since we don’t have actual new instances, we will just use\n",
    "the first three instances of the test set.  \n",
    "If you only care about the class with the highest\n",
    "estimated probability (even if that probability is quite low), then you can\n",
    "use the predict_classes() method instead"
   ]
  },
  {
   "cell_type": "code",
   "execution_count": 15,
   "metadata": {},
   "outputs": [
    {
     "data": {
      "text/plain": [
       "array([[0., 0., 0., 0., 0., 0., 0., 0., 0., 1.],\n",
       "       [0., 0., 1., 0., 0., 0., 0., 0., 0., 0.],\n",
       "       [0., 1., 0., 0., 0., 0., 0., 0., 0., 0.]], dtype=float32)"
      ]
     },
     "execution_count": 15,
     "metadata": {},
     "output_type": "execute_result"
    }
   ],
   "source": [
    "X_new = X_test[:3]\n",
    "y_proba = model.predict(X_new)\n",
    "y_proba.round(2)"
   ]
  },
  {
   "cell_type": "code",
   "execution_count": 16,
   "metadata": {},
   "outputs": [
    {
     "data": {
      "text/plain": [
       "array(['Ankle boot', 'Pullover', 'Trouser'], dtype='<U11')"
      ]
     },
     "execution_count": 16,
     "metadata": {},
     "output_type": "execute_result"
    }
   ],
   "source": [
    "y_pred = model.predict_classes(X_new)\n",
    "y_pred\n",
    "np.array(class_names)[y_pred]\n"
   ]
  }
 ],
 "metadata": {
  "kernelspec": {
   "display_name": "Python 3",
   "language": "python",
   "name": "python3"
  },
  "language_info": {
   "codemirror_mode": {
    "name": "ipython",
    "version": 3
   },
   "file_extension": ".py",
   "mimetype": "text/x-python",
   "name": "python",
   "nbconvert_exporter": "python",
   "pygments_lexer": "ipython3",
   "version": "3.7.7"
  }
 },
 "nbformat": 4,
 "nbformat_minor": 4
}
