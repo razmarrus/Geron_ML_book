{
 "cells": [
  {
   "cell_type": "markdown",
   "metadata": {},
   "source": [
    "*This notebook is dedicated to the tenth chapter. Exercises itself could be found at page 431.*  \n",
    "\n",
    "\n",
    "Train a deep MLP on the MNIST dataset (you can load it using\n",
    "keras.datasets.mnist.load_data(). See if you can get over\n",
    "98% precision. Try searching for the optimal learning rate by\n",
    "using the approach presented in this chapter (i.e., by growing the\n",
    "learning rate exponentially, plotting the error, and finding the\n",
    "point where the error shoots up). Try adding all the bells and\n",
    "whistles—save checkpoints, use early stopping, and plot learning\n",
    "curves using TensorBoard."
   ]
  },
  {
   "cell_type": "code",
   "execution_count": 1,
   "metadata": {},
   "outputs": [],
   "source": [
    "import tensorflow as tf\n",
    "import numpy as np\n",
    "from tensorflow import keras\n",
    "import pandas as pd\n",
    "import matplotlib.pyplot as plt"
   ]
  },
  {
   "cell_type": "code",
   "execution_count": 2,
   "metadata": {},
   "outputs": [],
   "source": [
    "keras.datasets.mnist.load_data()\n",
    "mnist = keras.datasets.mnist"
   ]
  },
  {
   "cell_type": "code",
   "execution_count": 3,
   "metadata": {},
   "outputs": [
    {
     "data": {
      "text/plain": [
       "(60000, 28, 28)"
      ]
     },
     "execution_count": 3,
     "metadata": {},
     "output_type": "execute_result"
    }
   ],
   "source": [
    "(X_train_full, y_train_full), (X_test, y_test) = mnist.load_data()\n",
    "X_train_full.shape"
   ]
  },
  {
   "cell_type": "code",
   "execution_count": 4,
   "metadata": {},
   "outputs": [
    {
     "data": {
      "text/plain": [
       "dtype('uint8')"
      ]
     },
     "execution_count": 4,
     "metadata": {},
     "output_type": "execute_result"
    }
   ],
   "source": [
    "X_train_full.dtype"
   ]
  },
  {
   "cell_type": "code",
   "execution_count": 5,
   "metadata": {},
   "outputs": [],
   "source": [
    "X_valid, X_train = X_train_full[:5000] / 255.0, X_train_full[5000:] /255.0\n",
    "y_valid, y_train = y_train_full[:5000], y_train_full[5000:]"
   ]
  },
  {
   "cell_type": "code",
   "execution_count": 6,
   "metadata": {},
   "outputs": [],
   "source": [
    "model = keras.models.Sequential([\n",
    "    keras.layers.Flatten(input_shape=[28, 28]),\n",
    "    keras.layers.Dense(300, activation=\"relu\"),\n",
    "    keras.layers.Dense(100, activation=\"relu\"),\n",
    "    keras.layers.Dense(10, activation=\"softmax\")\n",
    "])"
   ]
  },
  {
   "cell_type": "code",
   "execution_count": 7,
   "metadata": {},
   "outputs": [],
   "source": [
    "model.compile(loss=\"sparse_categorical_crossentropy\",\n",
    "optimizer=\"sgd\",\n",
    "metrics=[\"accuracy\"])"
   ]
  },
  {
   "cell_type": "code",
   "execution_count": 8,
   "metadata": {},
   "outputs": [],
   "source": [
    "early_stopping_cb = keras.callbacks.EarlyStopping(patience=20)\n",
    "checkpoint_cb = keras.callbacks.ModelCheckpoint(\"mnist_nn.h5\", save_best_only=True)"
   ]
  },
  {
   "cell_type": "code",
   "execution_count": 9,
   "metadata": {},
   "outputs": [
    {
     "name": "stdout",
     "output_type": "stream",
     "text": [
      "Train on 55000 samples, validate on 5000 samples\n",
      "Epoch 1/30\n",
      "55000/55000 [==============================] - 4s 67us/sample - loss: 0.6177 - accuracy: 0.8442 - val_loss: 0.3092 - val_accuracy: 0.9160\n",
      "Epoch 2/30\n",
      "55000/55000 [==============================] - 3s 57us/sample - loss: 0.2851 - accuracy: 0.9189 - val_loss: 0.2337 - val_accuracy: 0.9354\n",
      "Epoch 3/30\n",
      "55000/55000 [==============================] - 3s 52us/sample - loss: 0.2313 - accuracy: 0.9335 - val_loss: 0.2022 - val_accuracy: 0.9434\n",
      "Epoch 4/30\n",
      "55000/55000 [==============================] - 3s 58us/sample - loss: 0.1977 - accuracy: 0.9434 - val_loss: 0.1741 - val_accuracy: 0.9514\n",
      "Epoch 5/30\n",
      "55000/55000 [==============================] - 3s 58us/sample - loss: 0.1732 - accuracy: 0.9506 - val_loss: 0.1569 - val_accuracy: 0.9576\n",
      "Epoch 6/30\n",
      "55000/55000 [==============================] - 3s 56us/sample - loss: 0.1539 - accuracy: 0.9554 - val_loss: 0.1435 - val_accuracy: 0.9604\n",
      "Epoch 7/30\n",
      "55000/55000 [==============================] - 3s 54us/sample - loss: 0.1380 - accuracy: 0.9606 - val_loss: 0.1343 - val_accuracy: 0.9616\n",
      "Epoch 8/30\n",
      "55000/55000 [==============================] - 3s 55us/sample - loss: 0.1247 - accuracy: 0.9640 - val_loss: 0.1240 - val_accuracy: 0.9642\n",
      "Epoch 9/30\n",
      "55000/55000 [==============================] - 3s 58us/sample - loss: 0.1138 - accuracy: 0.9676 - val_loss: 0.1173 - val_accuracy: 0.9678\n",
      "Epoch 10/30\n",
      "55000/55000 [==============================] - 3s 61us/sample - loss: 0.1042 - accuracy: 0.9708 - val_loss: 0.1101 - val_accuracy: 0.9682\n",
      "Epoch 11/30\n",
      "55000/55000 [==============================] - 3s 59us/sample - loss: 0.0955 - accuracy: 0.9731 - val_loss: 0.1027 - val_accuracy: 0.9708\n",
      "Epoch 12/30\n",
      "55000/55000 [==============================] - 3s 60us/sample - loss: 0.0883 - accuracy: 0.9753 - val_loss: 0.0997 - val_accuracy: 0.9694\n",
      "Epoch 13/30\n",
      "55000/55000 [==============================] - 3s 60us/sample - loss: 0.0816 - accuracy: 0.9771 - val_loss: 0.0967 - val_accuracy: 0.9722\n",
      "Epoch 14/30\n",
      "55000/55000 [==============================] - 3s 63us/sample - loss: 0.0760 - accuracy: 0.9788 - val_loss: 0.0906 - val_accuracy: 0.9772\n",
      "Epoch 15/30\n",
      "55000/55000 [==============================] - 3s 56us/sample - loss: 0.0708 - accuracy: 0.9803 - val_loss: 0.0886 - val_accuracy: 0.9760\n",
      "Epoch 16/30\n",
      "55000/55000 [==============================] - 3s 61us/sample - loss: 0.0661 - accuracy: 0.9817 - val_loss: 0.0853 - val_accuracy: 0.9776\n",
      "Epoch 17/30\n",
      "55000/55000 [==============================] - 3s 58us/sample - loss: 0.0618 - accuracy: 0.9829 - val_loss: 0.0839 - val_accuracy: 0.9770\n",
      "Epoch 18/30\n",
      "55000/55000 [==============================] - 3s 59us/sample - loss: 0.0580 - accuracy: 0.9845 - val_loss: 0.0815 - val_accuracy: 0.9780\n",
      "Epoch 19/30\n",
      "55000/55000 [==============================] - 3s 58us/sample - loss: 0.0544 - accuracy: 0.9856 - val_loss: 0.0844 - val_accuracy: 0.9766\n",
      "Epoch 20/30\n",
      "55000/55000 [==============================] - 3s 55us/sample - loss: 0.0513 - accuracy: 0.9860 - val_loss: 0.0771 - val_accuracy: 0.9794\n",
      "Epoch 21/30\n",
      "55000/55000 [==============================] - 3s 54us/sample - loss: 0.0481 - accuracy: 0.9870 - val_loss: 0.0782 - val_accuracy: 0.9784\n",
      "Epoch 22/30\n",
      "55000/55000 [==============================] - 3s 57us/sample - loss: 0.0451 - accuracy: 0.9883 - val_loss: 0.0765 - val_accuracy: 0.9788\n",
      "Epoch 23/30\n",
      "55000/55000 [==============================] - 3s 56us/sample - loss: 0.0424 - accuracy: 0.9888 - val_loss: 0.0743 - val_accuracy: 0.9802\n",
      "Epoch 24/30\n",
      "55000/55000 [==============================] - 3s 55us/sample - loss: 0.0401 - accuracy: 0.9896 - val_loss: 0.0739 - val_accuracy: 0.9802\n",
      "Epoch 25/30\n",
      "55000/55000 [==============================] - 3s 56us/sample - loss: 0.0379 - accuracy: 0.9906 - val_loss: 0.0720 - val_accuracy: 0.9812\n",
      "Epoch 26/30\n",
      "55000/55000 [==============================] - 3s 55us/sample - loss: 0.0355 - accuracy: 0.9915 - val_loss: 0.0721 - val_accuracy: 0.9806\n",
      "Epoch 27/30\n",
      "55000/55000 [==============================] - 3s 58us/sample - loss: 0.0336 - accuracy: 0.9920 - val_loss: 0.0719 - val_accuracy: 0.9810\n",
      "Epoch 28/30\n",
      "55000/55000 [==============================] - 3s 55us/sample - loss: 0.0315 - accuracy: 0.9929 - val_loss: 0.0708 - val_accuracy: 0.9818\n",
      "Epoch 29/30\n",
      "55000/55000 [==============================] - 3s 56us/sample - loss: 0.0299 - accuracy: 0.9931 - val_loss: 0.0702 - val_accuracy: 0.9816\n",
      "Epoch 30/30\n",
      "55000/55000 [==============================] - 3s 58us/sample - loss: 0.0283 - accuracy: 0.9937 - val_loss: 0.0705 - val_accuracy: 0.9816\n"
     ]
    }
   ],
   "source": [
    "history = model.fit(X_train, y_train, epochs=30, validation_data=(X_valid, y_valid))"
   ]
  },
  {
   "cell_type": "code",
   "execution_count": 10,
   "metadata": {},
   "outputs": [
    {
     "data": {
      "image/png": "[encoded data removed]",
      "text/plain": [
       "<Figure size 576x360 with 1 Axes>"
      ]
     },
     "metadata": {
      "needs_background": "light"
     },
     "output_type": "display_data"
    }
   ],
   "source": [
    "pd.DataFrame(history.history).plot(figsize=(8, 5))\n",
    "plt.grid(True)\n",
    "plt.gca().set_ylim(0, 1) # set the vertical range to [0-1]\n",
    "plt.show()"
   ]
  },
  {
   "cell_type": "code",
   "execution_count": 13,
   "metadata": {},
   "outputs": [
    {
     "name": "stdout",
     "output_type": "stream",
     "text": [
      "10000/10000 [==============================] - 0s 39us/sample - loss: 14.1104 - accuracy: 0.9732\n"
     ]
    },
    {
     "data": {
      "text/plain": [
       "[14.110424702991908, 0.9732]"
      ]
     },
     "execution_count": 13,
     "metadata": {},
     "output_type": "execute_result"
    }
   ],
   "source": [
    "model.evaluate(X_test, y_test)"
   ]
  },
  {
   "cell_type": "code",
   "execution_count": 12,
   "metadata": {},
   "outputs": [],
   "source": [
    "model.save(\"mnist_nn.h5\")"
   ]
  },
  {
   "cell_type": "code",
   "execution_count": null,
   "metadata": {},
   "outputs": [],
   "source": []
  }
 ],
 "metadata": {
  "kernelspec": {
   "display_name": "Python 3",
   "language": "python",
   "name": "python3"
  },
  "language_info": {
   "codemirror_mode": {
    "name": "ipython",
    "version": 3
   },
   "file_extension": ".py",
   "mimetype": "text/x-python",
   "name": "python",
   "nbconvert_exporter": "python",
   "pygments_lexer": "ipython3",
   "version": "3.7.7"
  }
 },
 "nbformat": 4,
 "nbformat_minor": 4
}
